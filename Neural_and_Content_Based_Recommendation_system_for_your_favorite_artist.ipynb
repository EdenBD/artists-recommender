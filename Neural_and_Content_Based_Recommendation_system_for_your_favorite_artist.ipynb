{
  "nbformat": 4,
  "nbformat_minor": 0,
  "metadata": {
    "colab": {
      "name": "Neural and Content Based Recommendation system for your favorite artist",
      "provenance": [],
      "collapsed_sections": []
    },
    "kernelspec": {
      "name": "python3",
      "display_name": "Python 3"
    }
  },
  "cells": [
    {
      "cell_type": "markdown",
      "metadata": {
        "id": "L9A541Vt9gP3",
        "colab_type": "text"
      },
      "source": [
        "# Artists Recommendation System: Combining Neural Collaborative Recommendations and Content Based Recommendations\n"
      ]
    },
    {
      "cell_type": "markdown",
      "metadata": {
        "id": "MX3TGAZQaIKn",
        "colab_type": "text"
      },
      "source": [
        "## Step 1: Import Libraries and Define Constants"
      ]
    },
    {
      "cell_type": "code",
      "metadata": {
        "id": "VSNS2htH-6ZK",
        "colab_type": "code",
        "colab": {
          "base_uri": "https://localhost:8080/",
          "height": 34
        },
        "outputId": "5ef06738-f031-40fa-b945-a9abc1777282"
      },
      "source": [
        "%%bash\n",
        "# Check colab and silent output if there are no errors.\n",
        "!(stat -t /usr/local/lib/*/dist-packages/google/colab > /dev/null 2>&1) && exit \n",
        "# Clone Github repository.\n",
        "rm -rf artists-recommender\n",
        "git clone https://github.com/EdenBD/artists-recommender.git"
      ],
      "execution_count": 1,
      "outputs": [
        {
          "output_type": "stream",
          "text": [
            "Cloning into 'artists-recommender'...\n"
          ],
          "name": "stderr"
        }
      ]
    },
    {
      "cell_type": "code",
      "metadata": {
        "id": "FTCkB3Q39xMb",
        "colab_type": "code",
        "colab": {}
      },
      "source": [
        "# Append directories links.\n",
        "import os\n",
        "\n",
        "# Data processing and Pytorch.\n",
        "import pandas as pd\n",
        "import numpy as np\n",
        "import torch\n",
        "import random \n",
        "\n",
        "# Data visualization.\n",
        "import matplotlib.pyplot as plt\n",
        "\n",
        "# For deterministic results. \n",
        "SEED = 0\n",
        "random.seed(SEED)\n",
        "np.random.seed(SEED)\n",
        "torch.manual_seed(SEED)\n",
        "torch.backends.cudnn.deterministic = True\n",
        "\n",
        "# Keeping track of training time.\n",
        "from time import time\n",
        "\n",
        "# Helper functions For plotting.\n",
        "import sys\n",
        "sys.path.append('/content/artists-recommender')\n",
        "from helper import pre_process_df, plot_training, plot_histogram, plot_xygraph, plot_results"
      ],
      "execution_count": 3,
      "outputs": []
    },
    {
      "cell_type": "markdown",
      "metadata": {
        "id": "nTx1EYA_bWO4",
        "colab_type": "text"
      },
      "source": [
        "#### Notebook Constants"
      ]
    },
    {
      "cell_type": "code",
      "metadata": {
        "id": "uxYYrUYMbTBL",
        "colab_type": "code",
        "colab": {}
      },
      "source": [
        "\n",
        "# Split dataset to training, validation and test according to these values.\n",
        "TRAIN_SIZE = 0.8\n",
        "VALIDATION_SIZE = 0.1\n",
        "\n",
        "# Model hyperparameters\n",
        "N_EPOCHS = 5\n",
        "BATCH_SIZE = 32 \n",
        "\n",
        "DROPOUT = 0.3\n",
        "\n",
        "HIDDEN_DIMS = [512,256,128]\n",
        "EMBEDDING_DIM = 512\n",
        "\n",
        "ACCURACY_THRESHOLD = 5\n",
        "\n",
        "# Number of similar artists to return.\n",
        "TOP = 5\n",
        "\n",
        "# Github path.\n",
        "GIT = '/content/artists-recommender'\n",
        "\n",
        "# Pre-processed database. \n",
        "DB_FILENAME = \"filled_ratings.csv\"\n",
        "DB_PATH = os.path.join(GIT, DB_FILENAME)\n",
        "\n",
        "# trained model.\n",
        "MODEL_NAME = \"artist-recommender.pt\"\n",
        "MODEL_PATH = os.path.join(GIT, MODEL_NAME)\n"
      ],
      "execution_count": 4,
      "outputs": []
    },
    {
      "cell_type": "markdown",
      "metadata": {
        "id": "b0GzMdsicHC6",
        "colab_type": "text"
      },
      "source": [
        "## Step 2: Prepare Dataset\n"
      ]
    },
    {
      "cell_type": "markdown",
      "metadata": {
        "id": "lXbTGG6TiBZ_",
        "colab_type": "text"
      },
      "source": [
        "I use [Kaggle EMI Music contest dataset](https://www.kaggle.com/c/MusicHackathon/data).\n",
        "1. There are 50 unique, anonymous artists.\n",
        "2. There are ~50K users (i.e. reviewers). \n",
        "3. The artists features columns have values: {0,1, nan} where 1 represents an attribute that correctly describes the artist according to the reviewer. \n",
        "4. Ratings are a numerical value from 0-100 or nan. \n",
        "\n",
        "I pre-processed the dataset before hand, mostly to remove nan values. "
      ]
    },
    {
      "cell_type": "code",
      "metadata": {
        "id": "8hVd3tlbb3Ds",
        "colab_type": "code",
        "colab": {
          "base_uri": "https://localhost:8080/",
          "height": 811
        },
        "outputId": "d008747b-2b75-4e83-c741-a743e3bd6c1a"
      },
      "source": [
        "# Load dataset.\n",
        "df = pd.read_csv(DB_PATH, engine='python')\n",
        "df = df.loc[:, ~df.columns.str.contains('Unnamed')]\n",
        "\n",
        "# Dataset size.\n",
        "print('Number of rows: {:,}'.format(df.shape[0]))\n",
        "print('Number of columns: {:,}\\n'.format(df.shape[1]))\n",
        "\n",
        "# Number of nulls and type of column.\n",
        "print(df.info())\n",
        "\n",
        "# Sample two example rows.\n",
        "df.sample(2)\n",
        "\n"
      ],
      "execution_count": 7,
      "outputs": [
        {
          "output_type": "stream",
          "text": [
            "Number of rows: 33,308\n",
            "Number of columns: 27\n",
            "\n",
            "<class 'pandas.core.frame.DataFrame'>\n",
            "RangeIndex: 33308 entries, 0 to 33307\n",
            "Data columns (total 27 columns):\n",
            " #   Column         Non-Null Count  Dtype  \n",
            "---  ------         --------------  -----  \n",
            " 0   Artist         33308 non-null  int64  \n",
            " 1   User           33308 non-null  int64  \n",
            " 2   LIKE_ARTIST    33308 non-null  float64\n",
            " 3   Edgy           33308 non-null  int64  \n",
            " 4   Thoughtful     33308 non-null  int64  \n",
            " 5   Youthful       32491 non-null  float64\n",
            " 6   Current        33308 non-null  int64  \n",
            " 7   Stylish        33308 non-null  int64  \n",
            " 8   Beautiful      33308 non-null  int64  \n",
            " 9   Fun            33308 non-null  int64  \n",
            " 10  Authentic      33308 non-null  int64  \n",
            " 11  Credible       33308 non-null  int64  \n",
            " 12  Cool           33308 non-null  int64  \n",
            " 13  Catchy         32491 non-null  float64\n",
            " 14  Passionate     33308 non-null  int64  \n",
            " 15  Timeless       33308 non-null  int64  \n",
            " 16  Original       33308 non-null  int64  \n",
            " 17  Talented       33308 non-null  int64  \n",
            " 18  Distinctive    33308 non-null  int64  \n",
            " 19  Approachable   33308 non-null  int64  \n",
            " 20  Trendsetter    33308 non-null  int64  \n",
            " 21  Upbeat         32491 non-null  float64\n",
            " 22  Energetic      33308 non-null  int64  \n",
            " 23  None of these  33308 non-null  int64  \n",
            " 24  Sexy           33308 non-null  int64  \n",
            " 25  Dated          32491 non-null  float64\n",
            " 26  Warm           33308 non-null  int64  \n",
            "dtypes: float64(5), int64(22)\n",
            "memory usage: 6.9 MB\n",
            "None\n"
          ],
          "name": "stdout"
        },
        {
          "output_type": "execute_result",
          "data": {
            "text/html": [
              "<div>\n",
              "<style scoped>\n",
              "    .dataframe tbody tr th:only-of-type {\n",
              "        vertical-align: middle;\n",
              "    }\n",
              "\n",
              "    .dataframe tbody tr th {\n",
              "        vertical-align: top;\n",
              "    }\n",
              "\n",
              "    .dataframe thead th {\n",
              "        text-align: right;\n",
              "    }\n",
              "</style>\n",
              "<table border=\"1\" class=\"dataframe\">\n",
              "  <thead>\n",
              "    <tr style=\"text-align: right;\">\n",
              "      <th></th>\n",
              "      <th>Artist</th>\n",
              "      <th>User</th>\n",
              "      <th>LIKE_ARTIST</th>\n",
              "      <th>Edgy</th>\n",
              "      <th>Thoughtful</th>\n",
              "      <th>Youthful</th>\n",
              "      <th>Current</th>\n",
              "      <th>Stylish</th>\n",
              "      <th>Beautiful</th>\n",
              "      <th>Fun</th>\n",
              "      <th>Authentic</th>\n",
              "      <th>Credible</th>\n",
              "      <th>Cool</th>\n",
              "      <th>Catchy</th>\n",
              "      <th>Passionate</th>\n",
              "      <th>Timeless</th>\n",
              "      <th>Original</th>\n",
              "      <th>Talented</th>\n",
              "      <th>Distinctive</th>\n",
              "      <th>Approachable</th>\n",
              "      <th>Trendsetter</th>\n",
              "      <th>Upbeat</th>\n",
              "      <th>Energetic</th>\n",
              "      <th>None of these</th>\n",
              "      <th>Sexy</th>\n",
              "      <th>Dated</th>\n",
              "      <th>Warm</th>\n",
              "    </tr>\n",
              "  </thead>\n",
              "  <tbody>\n",
              "    <tr>\n",
              "      <th>18440</th>\n",
              "      <td>30</td>\n",
              "      <td>12025</td>\n",
              "      <td>10.0</td>\n",
              "      <td>0</td>\n",
              "      <td>0</td>\n",
              "      <td>0.0</td>\n",
              "      <td>0</td>\n",
              "      <td>0</td>\n",
              "      <td>0</td>\n",
              "      <td>0</td>\n",
              "      <td>0</td>\n",
              "      <td>0</td>\n",
              "      <td>0</td>\n",
              "      <td>0.0</td>\n",
              "      <td>0</td>\n",
              "      <td>0</td>\n",
              "      <td>0</td>\n",
              "      <td>0</td>\n",
              "      <td>0</td>\n",
              "      <td>0</td>\n",
              "      <td>0</td>\n",
              "      <td>0.0</td>\n",
              "      <td>1</td>\n",
              "      <td>0</td>\n",
              "      <td>0</td>\n",
              "      <td>0.0</td>\n",
              "      <td>0</td>\n",
              "    </tr>\n",
              "    <tr>\n",
              "      <th>9907</th>\n",
              "      <td>43</td>\n",
              "      <td>20585</td>\n",
              "      <td>74.0</td>\n",
              "      <td>0</td>\n",
              "      <td>1</td>\n",
              "      <td>0.0</td>\n",
              "      <td>1</td>\n",
              "      <td>1</td>\n",
              "      <td>1</td>\n",
              "      <td>0</td>\n",
              "      <td>1</td>\n",
              "      <td>1</td>\n",
              "      <td>1</td>\n",
              "      <td>1.0</td>\n",
              "      <td>1</td>\n",
              "      <td>1</td>\n",
              "      <td>0</td>\n",
              "      <td>1</td>\n",
              "      <td>1</td>\n",
              "      <td>1</td>\n",
              "      <td>0</td>\n",
              "      <td>0.0</td>\n",
              "      <td>0</td>\n",
              "      <td>0</td>\n",
              "      <td>0</td>\n",
              "      <td>0.0</td>\n",
              "      <td>1</td>\n",
              "    </tr>\n",
              "  </tbody>\n",
              "</table>\n",
              "</div>"
            ],
            "text/plain": [
              "       Artist   User  LIKE_ARTIST  Edgy  ...  None of these  Sexy  Dated  Warm\n",
              "18440      30  12025         10.0     0  ...              0     0    0.0     0\n",
              "9907       43  20585         74.0     0  ...              0     0    0.0     1\n",
              "\n",
              "[2 rows x 27 columns]"
            ]
          },
          "metadata": {
            "tags": []
          },
          "execution_count": 7
        }
      ]
    },
    {
      "cell_type": "markdown",
      "metadata": {
        "id": "NtzApgcyTCgY",
        "colab_type": "text"
      },
      "source": [
        "### Inspect Dataset"
      ]
    },
    {
      "cell_type": "code",
      "metadata": {
        "id": "DuEKPU7SHoxa",
        "colab_type": "code",
        "colab": {
          "base_uri": "https://localhost:8080/",
          "height": 68
        },
        "outputId": "8c6c5d4e-5e79-4a21-d948-cd09404ae8be"
      },
      "source": [
        "# Number of unique artists and users.\n",
        "n_users = len(df['User'].unique())\n",
        "n_artists = len(df['Artist'].unique())\n",
        "print(\"Number of Unique Users: {:,}\".format(n_users))\n",
        "print(\"Number of Unique Artists: {}\\n\".format(n_artists))\n",
        "\n",
        "# Get list of users, artists and ratings\n",
        "users = df['User'].values\n",
        "artists = df['Artist'].values\n",
        "ratings = df['LIKE_ARTIST'].values\n",
        "\n"
      ],
      "execution_count": 8,
      "outputs": [
        {
          "output_type": "stream",
          "text": [
            "Number of Unique Users: 23,634\n",
            "Number of Unique Artists: 50\n",
            "\n"
          ],
          "name": "stdout"
        }
      ]
    },
    {
      "cell_type": "code",
      "metadata": {
        "id": "Kc13f9fonmM_",
        "colab_type": "code",
        "colab": {
          "base_uri": "https://localhost:8080/",
          "height": 312
        },
        "outputId": "e0dedd6a-ae7a-4921-fd9a-ca8f9ccb1bbd"
      },
      "source": [
        "# Ratings histogram.\n",
        "plot_histogram(df['LIKE_ARTIST'],20,'Ratings','Count','Ratings Distribution')\n"
      ],
      "execution_count": 10,
      "outputs": [
        {
          "output_type": "stream",
          "text": [
            "Ratings avg. value: 48.12\n"
          ],
          "name": "stdout"
        },
        {
          "output_type": "display_data",
          "data": {
            "image/png": "[encoded data removed]",
            "text/plain": [
              "<Figure size 432x288 with 1 Axes>"
            ]
          },
          "metadata": {
            "tags": [],
            "needs_background": "light"
          }
        }
      ]
    },
    {
      "cell_type": "code",
      "metadata": {
        "id": "noRjnlcESuE5",
        "colab_type": "code",
        "colab": {
          "base_uri": "https://localhost:8080/",
          "height": 380
        },
        "outputId": "b4ce1adb-4a6f-47b6-aab8-ead755eb6a74"
      },
      "source": [
        "# Users Ratings per Artist.\n",
        "users_per_artist = df.groupby('Artist').count()['User']\n",
        "print(\"Minimum number of Ratings per Artist: {:,}\".format(min(users_per_artist)))\n",
        "print(\"Maximum number of Ratings per Artist: {:,}\\n\".format(max(users_per_artist)))\n",
        "plot_xygraph(users_per_artist,'Number of Users Ratings per Artist','Artist','Users count')\n",
        "print('\\n')"
      ],
      "execution_count": 11,
      "outputs": [
        {
          "output_type": "stream",
          "text": [
            "Minimum number of Ratings per Artist: 34\n",
            "Maximum number of Ratings per Artist: 3,307\n",
            "\n"
          ],
          "name": "stdout"
        },
        {
          "output_type": "display_data",
          "data": {
            "image/png": "[encoded data removed]",
            "text/plain": [
              "<Figure size 432x288 with 1 Axes>"
            ]
          },
          "metadata": {
            "tags": [],
            "needs_background": "light"
          }
        },
        {
          "output_type": "stream",
          "text": [
            "\n",
            "\n"
          ],
          "name": "stdout"
        }
      ]
    },
    {
      "cell_type": "code",
      "metadata": {
        "id": "pwpPCkr0SuZk",
        "colab_type": "code",
        "colab": {
          "base_uri": "https://localhost:8080/",
          "height": 380
        },
        "outputId": "4863d9af-c3b3-4c85-a45c-bfcd070063c3"
      },
      "source": [
        "# Ratings per User.\n",
        "ratings_per_user = df.groupby('User').count()['LIKE_ARTIST']\n",
        "print(\"Minimum number of Ratings per User: {:,}\".format(min(ratings_per_user)))\n",
        "print(\"Maximum number of Ratings per User: {:,}\\n\".format(max(ratings_per_user)))\n",
        "# Check all users have at least one rating.\n",
        "nulls_users = np.count_nonzero(ratings_per_user == 0)\n",
        "print('Precentage of Users with No Ratings: {:.1f}% \\n'.format((nulls_users/len(ratings_per_user))*100))\n",
        "plot_xygraph(ratings_per_user,'Number of Ratings per User','User','Ratings count')"
      ],
      "execution_count": 13,
      "outputs": [
        {
          "output_type": "stream",
          "text": [
            "Minimum number of Ratings per User: 1\n",
            "Maximum number of Ratings per User: 3\n",
            "\n",
            "Precentage of Users with No Ratings: 0.0% \n",
            "\n"
          ],
          "name": "stdout"
        },
        {
          "output_type": "display_data",
          "data": {
            "image/png": "[encoded data removed]",
            "text/plain": [
              "<Figure size 432x288 with 1 Axes>"
            ]
          },
          "metadata": {
            "tags": [],
            "needs_background": "light"
          }
        }
      ]
    },
    {
      "cell_type": "markdown",
      "metadata": {
        "id": "Ynr7Rc2V4unM",
        "colab_type": "text"
      },
      "source": [
        "#### Pytorch Iterator\n",
        "Split data to Train, Validation, Test and create a Pytorch Iterator."
      ]
    },
    {
      "cell_type": "code",
      "metadata": {
        "id": "p8w-capXnDyF",
        "colab_type": "code",
        "colab": {
          "base_uri": "https://localhost:8080/",
          "height": 69
        },
        "outputId": "8c614b8f-97c8-4ca1-c065-52c8ba6d24d1"
      },
      "source": [
        "from torch.utils.data import TensorDataset, random_split, DataLoader, RandomSampler, SequentialSampler\n",
        "\n",
        "# Convert the lists into tensors.\n",
        "users = torch.LongTensor(users)\n",
        "artists = torch.LongTensor(artists)\n",
        "ratings = torch.tensor(ratings)\n",
        "\n",
        "# Combine the inputs into a TensorDataset.\n",
        "dataset = TensorDataset(users, artists, ratings)\n",
        "\n",
        "# Split train-validation-test sizes.\n",
        "train_size = int(TRAIN_SIZE * len(dataset))\n",
        "val_size = int(VALIDATION_SIZE * len(dataset))\n",
        "test_size = len(dataset) - train_size - val_size\n",
        "\n",
        "# Divide the dataset randomly.\n",
        "train_dataset, val_dataset, test_dataset = random_split(dataset, [train_size, val_size, test_size])\n",
        "\n",
        "# Create DataLoaders.\n",
        "train_dataloader = DataLoader(\n",
        "            train_dataset,  \n",
        "            sampler = RandomSampler(train_dataset), # Select batches randomly.\n",
        "            batch_size = BATCH_SIZE \n",
        "        )\n",
        "\n",
        "validation_dataloader = DataLoader(\n",
        "            val_dataset,\n",
        "            sampler = SequentialSampler(val_dataset), # Pull batches sequentially.\n",
        "            batch_size = BATCH_SIZE \n",
        "        )\n",
        "\n",
        "test_dataloader = DataLoader(\n",
        "            test_dataset,\n",
        "            sampler = SequentialSampler(test_dataset), # Pull batches sequentially.\n",
        "            batch_size = BATCH_SIZE \n",
        "        )\n",
        "\n",
        "print('Number of training samples: {:,}'.format(train_size))\n",
        "print('Number of validation samples: {:,}'.format(val_size))\n",
        "print('Number of test samples: {:,}'.format(test_size))"
      ],
      "execution_count": null,
      "outputs": [
        {
          "output_type": "stream",
          "text": [
            "Number of training samples: 26,646\n",
            "Number of validation samples: 3,330\n",
            "Number of test samples: 3,332\n"
          ],
          "name": "stdout"
        }
      ]
    },
    {
      "cell_type": "markdown",
      "metadata": {
        "id": "duz4TGjI4-1g",
        "colab_type": "text"
      },
      "source": [
        "## Step 3: Define the Model\n"
      ]
    },
    {
      "cell_type": "markdown",
      "metadata": {
        "id": "PtSvVq7sXi92",
        "colab_type": "text"
      },
      "source": [
        "### Neural Collborative Filtering Recommender:\n",
        "\n",
        "Build a model for the Regression task: **f(user, artist) = Rating**, a numerical value in the range [0-100]."
      ]
    },
    {
      "cell_type": "code",
      "metadata": {
        "id": "RI2G64oP5U-L",
        "colab_type": "code",
        "colab": {}
      },
      "source": [
        "import torch.nn as nn\n",
        "import torch.nn.functional as F\n",
        "\n",
        "class NeuralArtistRecommender(nn.Module):\n",
        "  \"\"\"\n",
        "  Feedforward model with Embeddings for users and artist.\n",
        "  \n",
        "  Args:\n",
        "    hidden_dims (list): hidden dimensions of linearr layers of the FF model. \n",
        "  \"\"\"\n",
        "  def __init__(self, n_users, n_artists, embedding_dim, hidden_dims, dropout):\n",
        "\n",
        "    super().__init__()\n",
        "\n",
        "    self.user_embedding = nn.Embedding(n_users, embedding_dim) \n",
        "    self.artist_embedding = nn.Embedding(n_artists, embedding_dim) \n",
        "\n",
        "    self.dropout_probability = dropout\n",
        "    # A list of linear submodules.\n",
        "    self.linears = nn.ModuleList([nn.Linear(embedding_dim * 2, hidden_dims[0])])\n",
        "    self.linears.extend([nn.Linear(hidden_dims[idx], hidden_dims[idx+1]) for idx in range(len(hidden_dims)-1)])\n",
        "\n",
        "    # Regression task, output 1 numerical value\n",
        "    self.out = nn.Linear(hidden_dims[-1], 1)\n",
        "\n",
        "  def forward(self, users, artists):\n",
        "\n",
        "    # Concatenate user and artist embeddings.\n",
        "    user_embed = self.user_embedding(users)\n",
        "    artist_embed = self.artist_embedding(artists)\n",
        "\n",
        "    hidden = torch.cat([user_embed, artist_embed], dim=1)\n",
        "\n",
        "    # Add Leaky RELU and dropout to each linear layer.\n",
        "    for idx in range(len(self.linears)):\n",
        "        hidden = self.linears[idx](hidden)\n",
        "        hidden = F.leaky_relu(hidden)\n",
        "        hidden = F.dropout(hidden,  p=self.dropout_probability)\n",
        "    \n",
        "    # Linear activation at output layer\n",
        "    rating = self.out(hidden)\n",
        "    \n",
        "    return rating\n"
      ],
      "execution_count": null,
      "outputs": []
    },
    {
      "cell_type": "code",
      "metadata": {
        "id": "r6hAqUCwDqdz",
        "colab_type": "code",
        "colab": {}
      },
      "source": [
        "model = NeuralArtistRecommender(n_users, \n",
        "                                n_artists, \n",
        "                                EMBEDDING_DIM, \n",
        "                                HIDDEN_DIMS, \n",
        "                                DROPOUT)"
      ],
      "execution_count": null,
      "outputs": []
    },
    {
      "cell_type": "code",
      "metadata": {
        "id": "6PRBOBV5I9sS",
        "colab_type": "code",
        "colab": {
          "base_uri": "https://localhost:8080/",
          "height": 208
        },
        "outputId": "640f003c-14bb-4610-c7e2-25f7ccf71de7"
      },
      "source": [
        "for name, param in model.named_parameters():                \n",
        "    if param.requires_grad:\n",
        "        print(name)\n",
        "        \n",
        "def count_parameters(model):\n",
        "    return sum(p.numel() for p in model.parameters() if p.requires_grad)\n",
        "\n",
        "print(f'The model has {count_parameters(model):,} trainable parameters')"
      ],
      "execution_count": null,
      "outputs": [
        {
          "output_type": "stream",
          "text": [
            "user_embedding.weight\n",
            "artist_embedding.weight\n",
            "linears.0.weight\n",
            "linears.0.bias\n",
            "linears.1.weight\n",
            "linears.1.bias\n",
            "linears.2.weight\n",
            "linears.2.bias\n",
            "out.weight\n",
            "out.bias\n",
            "The model has 12,815,361 trainable parameters\n"
          ],
          "name": "stdout"
        }
      ]
    },
    {
      "cell_type": "markdown",
      "metadata": {
        "id": "Y8ABU_n6JYYw",
        "colab_type": "text"
      },
      "source": [
        "#### Train Neural Model\n",
        "\n",
        "1. Sample a batch.\n",
        "2. Compute loss `MSE loss` and accuracy `batch_accuracy`.\n",
        "3. Compute gradients of trainable weights.\n",
        "4. Update weights accordingly with optimizer `AdamW`.\n",
        "\n",
        "Each Epoch takes about 5 minutes to train."
      ]
    },
    {
      "cell_type": "markdown",
      "metadata": {
        "id": "NpL-pK0PKsDE",
        "colab_type": "text"
      },
      "source": [
        "Check if any GPUs are available, and if available, put the model and criterion onto the GPU."
      ]
    },
    {
      "cell_type": "code",
      "metadata": {
        "id": "J_GiFDydKsqt",
        "colab_type": "code",
        "colab": {
          "base_uri": "https://localhost:8080/",
          "height": 225
        },
        "outputId": "39ecf10e-edc4-42db-976c-690b0ce69e02"
      },
      "source": [
        "# If there's a GPU available.\n",
        "device = torch.device('cuda' if torch.cuda.is_available() else 'cpu')\n",
        "print('There are {} GPU(s) available. \\n'.format(torch.cuda.device_count()))\n",
        "\n",
        "# Fit model and criterion to Cuda.\n",
        "model = model.to(device)\n",
        "\n",
        "# Convert model parameters to double.\n",
        "model.double()"
      ],
      "execution_count": null,
      "outputs": [
        {
          "output_type": "stream",
          "text": [
            "There are 0 GPU(s) available. \n",
            "\n"
          ],
          "name": "stdout"
        },
        {
          "output_type": "execute_result",
          "data": {
            "text/plain": [
              "NeuralArtistRecommender(\n",
              "  (user_embedding): Embedding(23634, 512)\n",
              "  (artist_embedding): Embedding(50, 512)\n",
              "  (linears): ModuleList(\n",
              "    (0): Linear(in_features=1024, out_features=512, bias=True)\n",
              "    (1): Linear(in_features=512, out_features=256, bias=True)\n",
              "    (2): Linear(in_features=256, out_features=128, bias=True)\n",
              "  )\n",
              "  (out): Linear(in_features=128, out_features=1, bias=True)\n",
              ")"
            ]
          },
          "metadata": {
            "tags": []
          },
          "execution_count": 11
        }
      ]
    },
    {
      "cell_type": "code",
      "metadata": {
        "id": "OObnr_bULGwA",
        "colab_type": "code",
        "colab": {}
      },
      "source": [
        "def batch_accuracy(predictions, labels, threshold=ACCURACY_THRESHOLD):\n",
        "    \"\"\"\n",
        "    Args: \n",
        "      preds and labels are both (batch_size,). \n",
        "      labels are the ratings between [0-100].\n",
        "\n",
        "    Returns a float between 0-1, represents precentage of correct predictions in batch. \n",
        "    A correct a prediction for which abs(prediction-label) <=  threshold.\n",
        "    \"\"\"\n",
        "    # Convert to CPU to be able to use numpy.\n",
        "    preds = predictions.detach().cpu().numpy()\n",
        "    labels = labels.detach().cpu().numpy()\n",
        "    # Filter all the correct predictions, corrrect are those close enough to the labels.\n",
        "    correct_mask = np.isclose(preds, labels, rtol=threshold, atol=threshold)\n",
        "\n",
        "    return np.sum(correct_mask)"
      ],
      "execution_count": null,
      "outputs": []
    },
    {
      "cell_type": "code",
      "metadata": {
        "id": "t6c66yvqglIO",
        "colab_type": "code",
        "colab": {}
      },
      "source": [
        "import torch.optim as optim\n",
        "\n",
        "# The call to model.parameters() contains the learnable parameters.\n",
        "optimizer = optim.AdamW(model.parameters())\n",
        "criterion = nn.MSELoss().to(device)\n",
        "criterion = criterion.to(device)\n",
        "\n",
        "\n",
        "def train_epoch(model, train_loader, optimizer, criterion, epoch):\n",
        "    model.train()  \n",
        "    epoch_loss, epoch_acc = 0, 0\n",
        "    num_samples = len(train_loader.dataset)\n",
        "    \n",
        "    # 1) Get a batch.\n",
        "    for batch_idx, (users, artists, targets) in enumerate(train_loader):  \n",
        "       \n",
        "        optimizer.zero_grad()\n",
        "\n",
        "        # Compute batch predictions. \n",
        "        users = users.to(device)\n",
        "        artists = artists.to(device)\n",
        "        targets = targets.to(device)\n",
        "        \n",
        "        ratings = model(users, artists)\n",
        "        # To reshpe to size (batch_size,) instead of (batch_size,1)\n",
        "        ratings = ratings.squeeze(1)\n",
        " \n",
        "        # 2) Compute loss and accuracy.\n",
        "        loss = criterion(ratings, targets)\n",
        "        accuracy = batch_accuracy(ratings, targets)\n",
        "\n",
        "        # 3) Compute gradients.\n",
        "        loss.backward()\n",
        "        \n",
        "        # 4) Update models parameters. \n",
        "        optimizer.step()\n",
        "        \n",
        "        # Log accuracy and avg loss.\n",
        "        epoch_acc += accuracy.item()\n",
        "        epoch_loss += loss.item()\n",
        "    \n",
        "    return epoch_loss / num_samples, epoch_acc / num_samples\n"
      ],
      "execution_count": null,
      "outputs": []
    },
    {
      "cell_type": "code",
      "metadata": {
        "id": "bDtLKOvDoZAm",
        "colab_type": "code",
        "colab": {}
      },
      "source": [
        "def eval_epoch(model, test_loader, criterion):\n",
        "\n",
        "    model.eval()\n",
        "    epoch_loss, epoch_acc = 0, 0\n",
        "    num_samples = len(test_loader.dataset)\n",
        "\n",
        "    for users, artists, targets in test_loader:\n",
        "\n",
        "        # Compute batch predictions. \n",
        "        users = users.to(device)\n",
        "        artists = artists.to(device)\n",
        "        targets = targets.to(device)\n",
        "        \n",
        "        ratings = model(users, artists)\n",
        "        ratings = ratings.squeeze(1)\n",
        "\n",
        "        # Compute and sum loss and accuracy.\n",
        "        epoch_loss += criterion(ratings, targets).item()\n",
        "        epoch_acc += batch_accuracy(ratings, targets).item()\n",
        "   \n",
        "    return epoch_loss / num_samples, epoch_acc / num_samples\n",
        "\n"
      ],
      "execution_count": null,
      "outputs": []
    },
    {
      "cell_type": "code",
      "metadata": {
        "id": "YGKB8CugqDvr",
        "colab_type": "code",
        "colab": {
          "base_uri": "https://localhost:8080/",
          "height": 277
        },
        "outputId": "de56b07d-ac75-4e27-e3ac-01535ace053f"
      },
      "source": [
        "best_valid_loss = float('inf')\n",
        "epochs_val_loss = []\n",
        "epochs_accuracy = []\n",
        "\n",
        "for epoch in range(N_EPOCHS):\n",
        "  start_time = time()\n",
        "\n",
        "  train_loss, train_acc = train_epoch(model, train_dataloader, optimizer, criterion, epoch)\n",
        "  valid_loss, valid_acc = eval_epoch(model, validation_dataloader, criterion)\n",
        "\n",
        "  # Logging.\n",
        "  epochs_val_loss.append(valid_loss)\n",
        "  epochs_accuracy.append(valid_acc)\n",
        "    \n",
        "  print(f'Epoch: {epoch+1:02} | Epoch Time: {(time() - start_time)/60:.2f}m')\n",
        "  print(f'\\t Train Loss: {train_loss:.3f} | Train Acc: {train_acc*100:.2f}%')\n",
        "  print(f'\\t  Val. Loss: {valid_loss:.3f} |  Val. Acc: {valid_acc*100:.2f}%')"
      ],
      "execution_count": null,
      "outputs": [
        {
          "output_type": "stream",
          "text": [
            "Epoch: 01 | Epoch Time: 3.47m\n",
            "\t Train Loss: 17.401 | Train Acc: 97.85%\n",
            "\t  Val. Loss: 15.771 |  Val. Acc: 97.96%\n",
            "Epoch: 02 | Epoch Time: 3.14m\n",
            "\t Train Loss: 14.050 | Train Acc: 98.01%\n",
            "\t  Val. Loss: 15.259 |  Val. Acc: 98.11%\n",
            "Epoch: 03 | Epoch Time: 3.13m\n",
            "\t Train Loss: 10.848 | Train Acc: 98.51%\n",
            "\t  Val. Loss: 15.915 |  Val. Acc: 97.96%\n",
            "Epoch: 04 | Epoch Time: 3.13m\n",
            "\t Train Loss: 7.595 | Train Acc: 99.00%\n",
            "\t  Val. Loss: 17.547 |  Val. Acc: 97.48%\n",
            "Epoch: 05 | Epoch Time: 3.14m\n",
            "\t Train Loss: 5.390 | Train Acc: 99.34%\n",
            "\t  Val. Loss: 17.625 |  Val. Acc: 97.54%\n"
          ],
          "name": "stdout"
        }
      ]
    },
    {
      "cell_type": "code",
      "metadata": {
        "id": "ZQuj10cYHR5o",
        "colab_type": "code",
        "colab": {
          "base_uri": "https://localhost:8080/",
          "height": 295
        },
        "outputId": "c2052b98-167c-4f93-88fb-30ca4acb293b"
      },
      "source": [
        "plot_training(epochs_val_loss, epochs_accuracy, N_EPOCHS)"
      ],
      "execution_count": null,
      "outputs": [
        {
          "output_type": "display_data",
          "data": {
            "image/png": "[encoded data removed]",
            "text/plain": [
              "<Figure size 432x288 with 1 Axes>"
            ]
          },
          "metadata": {
            "tags": [],
            "needs_background": "light"
          }
        }
      ]
    },
    {
      "cell_type": "markdown",
      "metadata": {
        "id": "O-0g4FioXKOD",
        "colab_type": "text"
      },
      "source": [
        "### Content-Based Recommender"
      ]
    },
    {
      "cell_type": "code",
      "metadata": {
        "id": "TW1PN5HWXJWy",
        "colab_type": "code",
        "colab": {
          "base_uri": "https://localhost:8080/",
          "height": 178
        },
        "outputId": "516c7857-297d-4368-e259-ed0534913acf"
      },
      "source": [
        "# Remove User and Ratings for Content Based Similarity Recommender\n",
        "drop_cols = ['User','LIKE_ARTIST']\n",
        "artists_df = df.groupby('Artist').mean()\n",
        "artists_df.drop(columns=drop_cols, inplace=True)\n",
        "\n",
        "artists_df.sample(2)\n"
      ],
      "execution_count": null,
      "outputs": [
        {
          "output_type": "execute_result",
          "data": {
            "text/html": [
              "<div>\n",
              "<style scoped>\n",
              "    .dataframe tbody tr th:only-of-type {\n",
              "        vertical-align: middle;\n",
              "    }\n",
              "\n",
              "    .dataframe tbody tr th {\n",
              "        vertical-align: top;\n",
              "    }\n",
              "\n",
              "    .dataframe thead th {\n",
              "        text-align: right;\n",
              "    }\n",
              "</style>\n",
              "<table border=\"1\" class=\"dataframe\">\n",
              "  <thead>\n",
              "    <tr style=\"text-align: right;\">\n",
              "      <th></th>\n",
              "      <th>Edgy</th>\n",
              "      <th>Thoughtful</th>\n",
              "      <th>Youthful</th>\n",
              "      <th>Current</th>\n",
              "      <th>Stylish</th>\n",
              "      <th>Beautiful</th>\n",
              "      <th>Fun</th>\n",
              "      <th>Authentic</th>\n",
              "      <th>Credible</th>\n",
              "      <th>Cool</th>\n",
              "      <th>Catchy</th>\n",
              "      <th>Passionate</th>\n",
              "      <th>Timeless</th>\n",
              "      <th>Original</th>\n",
              "      <th>Talented</th>\n",
              "      <th>Distinctive</th>\n",
              "      <th>Approachable</th>\n",
              "      <th>Trendsetter</th>\n",
              "      <th>Upbeat</th>\n",
              "      <th>Energetic</th>\n",
              "      <th>None of these</th>\n",
              "      <th>Sexy</th>\n",
              "      <th>Dated</th>\n",
              "      <th>Warm</th>\n",
              "    </tr>\n",
              "    <tr>\n",
              "      <th>Artist</th>\n",
              "      <th></th>\n",
              "      <th></th>\n",
              "      <th></th>\n",
              "      <th></th>\n",
              "      <th></th>\n",
              "      <th></th>\n",
              "      <th></th>\n",
              "      <th></th>\n",
              "      <th></th>\n",
              "      <th></th>\n",
              "      <th></th>\n",
              "      <th></th>\n",
              "      <th></th>\n",
              "      <th></th>\n",
              "      <th></th>\n",
              "      <th></th>\n",
              "      <th></th>\n",
              "      <th></th>\n",
              "      <th></th>\n",
              "      <th></th>\n",
              "      <th></th>\n",
              "      <th></th>\n",
              "      <th></th>\n",
              "      <th></th>\n",
              "    </tr>\n",
              "  </thead>\n",
              "  <tbody>\n",
              "    <tr>\n",
              "      <th>26</th>\n",
              "      <td>0.218182</td>\n",
              "      <td>0.100000</td>\n",
              "      <td>0.163636</td>\n",
              "      <td>0.136364</td>\n",
              "      <td>0.127273</td>\n",
              "      <td>0.200000</td>\n",
              "      <td>0.290909</td>\n",
              "      <td>0.200000</td>\n",
              "      <td>0.236364</td>\n",
              "      <td>0.236364</td>\n",
              "      <td>0.318182</td>\n",
              "      <td>0.136364</td>\n",
              "      <td>0.181818</td>\n",
              "      <td>0.327273</td>\n",
              "      <td>0.281818</td>\n",
              "      <td>0.372727</td>\n",
              "      <td>0.109091</td>\n",
              "      <td>0.072727</td>\n",
              "      <td>0.163636</td>\n",
              "      <td>0.263636</td>\n",
              "      <td>0.018182</td>\n",
              "      <td>0.072727</td>\n",
              "      <td>0.036364</td>\n",
              "      <td>0.109091</td>\n",
              "    </tr>\n",
              "    <tr>\n",
              "      <th>42</th>\n",
              "      <td>0.372737</td>\n",
              "      <td>0.030884</td>\n",
              "      <td>0.095847</td>\n",
              "      <td>0.040469</td>\n",
              "      <td>0.041534</td>\n",
              "      <td>0.024494</td>\n",
              "      <td>0.129925</td>\n",
              "      <td>0.188498</td>\n",
              "      <td>0.097977</td>\n",
              "      <td>0.125666</td>\n",
              "      <td>0.179979</td>\n",
              "      <td>0.132055</td>\n",
              "      <td>0.161874</td>\n",
              "      <td>0.269436</td>\n",
              "      <td>0.080937</td>\n",
              "      <td>0.390841</td>\n",
              "      <td>0.011715</td>\n",
              "      <td>0.134185</td>\n",
              "      <td>0.062833</td>\n",
              "      <td>0.410011</td>\n",
              "      <td>0.034079</td>\n",
              "      <td>0.020234</td>\n",
              "      <td>0.194888</td>\n",
              "      <td>0.003195</td>\n",
              "    </tr>\n",
              "  </tbody>\n",
              "</table>\n",
              "</div>"
            ],
            "text/plain": [
              "            Edgy  Thoughtful  Youthful  ...      Sexy     Dated      Warm\n",
              "Artist                                  ...                              \n",
              "26      0.218182    0.100000  0.163636  ...  0.072727  0.036364  0.109091\n",
              "42      0.372737    0.030884  0.095847  ...  0.020234  0.194888  0.003195\n",
              "\n",
              "[2 rows x 24 columns]"
            ]
          },
          "metadata": {
            "tags": []
          },
          "execution_count": 17
        }
      ]
    },
    {
      "cell_type": "code",
      "metadata": {
        "id": "AXF-gc_tfdKh",
        "colab_type": "code",
        "colab": {}
      },
      "source": [
        "from sklearn.metrics.pairwise import cosine_similarity\n",
        "\n",
        "# Compute how similar two artists are using defined artists features.\n",
        "cosine_sim = cosine_similarity(artists_df)\n",
        "\n",
        "# Compute similarity using the trained model Artist Embedding tensor.\n",
        "for name, param in model.named_parameters():                \n",
        "    if name.startswith('artist'):\n",
        "      artist_embedding = param.detach().numpy()\n",
        "      artist_embedding_similarity = cosine_similarity(artist_embedding)"
      ],
      "execution_count": null,
      "outputs": []
    },
    {
      "cell_type": "markdown",
      "metadata": {
        "id": "cmd-6G3bAJYb",
        "colab_type": "text"
      },
      "source": [
        "## Step 4: Model Evaluation"
      ]
    },
    {
      "cell_type": "code",
      "metadata": {
        "id": "pTHOLwkPAcvt",
        "colab_type": "code",
        "colab": {
          "base_uri": "https://localhost:8080/",
          "height": 35
        },
        "outputId": "6a969d30-e92e-43be-9d50-47d17c5b9615"
      },
      "source": [
        "# Load best trained model hosted on github, in place updates given `model`.\n",
        "# model.load_state_dict(torch.load(MODEL_PATH))\n",
        "# Conpute loss and accuracy of test set\n",
        "eval_epoch(model,  test_dataloader, criterion)"
      ],
      "execution_count": null,
      "outputs": [
        {
          "output_type": "execute_result",
          "data": {
            "text/plain": [
              "(17.360063358586658, 0.9792917166866747)"
            ]
          },
          "metadata": {
            "tags": []
          },
          "execution_count": 19
        }
      ]
    },
    {
      "cell_type": "markdown",
      "metadata": {
        "id": "VrmCbYEzV_7Z",
        "colab_type": "text"
      },
      "source": [
        "Content based recommendationc code taken from [Recommender Systems in Python: Beginner Tutorial By Rounak Banik](https://www.datacamp.com/community/tutorials/recommender-systems-python)."
      ]
    },
    {
      "cell_type": "code",
      "metadata": {
        "id": "VynLnSy7iOTg",
        "colab_type": "code",
        "colab": {}
      },
      "source": [
        "def artist_seen(user,artist):\n",
        "  user_df = df[df.User == user]\n",
        "  return artist in user_df['Artist']\n",
        "\n",
        "def content_based_recommendation(user, similarity, top=TOP):\n",
        "  \"\"\"\n",
        "    Get top similar artists for given artisst id. \n",
        "  \"\"\"\n",
        "\n",
        "  # Get user's favorite artist\n",
        "  user_df = df[df.User == user]\n",
        "  max_rating_idx = user_df['LIKE_ARTIST'].idxmax()\n",
        "  artist = df['Artist'].iat[max_rating_idx]\n",
        "\n",
        "  # Get pairwsie similarity scores of all artist with one artist.\n",
        "  sim_scores = list(enumerate(similarity[artist]))\n",
        "\n",
        "  # Sort based on similarity scores.\n",
        "  sim_scores = sorted(sim_scores, key=lambda x: x[1], reverse=True)\n",
        "\n",
        "  # Get top most similar artists. \n",
        "  most_similar = sim_scores[1:1+top]\n",
        "\n",
        "  # Get corresponding artists indices\n",
        "  artists = [i[0] for i in most_similar]\n",
        "\n",
        "  return artists\n",
        "\n",
        "def collaborative_filtering_recommendation(user, model, n_artists, top=TOP):\n",
        "  model.eval()\n",
        "  top_ratings = []\n",
        "  user = torch.LongTensor([user])\n",
        "\n",
        "  # Check top ratings of user among all artists\n",
        "  for artist in range(n_artists):\n",
        "    if not artist_seen(user.item(),artist):\n",
        "      artist = torch.LongTensor([artist])\n",
        "      top_ratings.append((artist.item(), model(user, artist).item()))\n",
        "  highest_ranking = sorted(top_ratings, key=lambda x: x[1], reverse=True)[:top]\n",
        "  artists = [i[0] for i in highest_ranking]\n",
        "\n",
        "  return artists\n",
        "\n"
      ],
      "execution_count": null,
      "outputs": []
    },
    {
      "cell_type": "code",
      "metadata": {
        "id": "nSvNlj7Ujjdw",
        "colab_type": "code",
        "colab": {
          "base_uri": "https://localhost:8080/",
          "height": 417
        },
        "outputId": "085acc4b-befd-461f-b5e0-1618906584d5"
      },
      "source": [
        "user = 9582\n",
        "seen_artists = list(df[df.User == user]['Artist'])\n",
        "print(\"Seen artists:\",seen_artists,'\\n')\n",
        "content_rec = content_based_recommendation(user, cosine_sim)\n",
        "print(\"Content Based Top artists for user {}: {}\\n\".format(user, content_rec))\n",
        "\n",
        "content_rec_artist_embedding = content_based_recommendation(user, artist_embedding_similarity)\n",
        "print(\"Content Based Artist Embedding Top artists for user {}: {}\\n\".format(user, content_rec_artist_embedding))\n",
        "\n",
        "collab_rec = collaborative_filtering_recommendation(user, model, n_artists)\n",
        "print(\"Collaborative Filtering Top artists for user {}: {}\".format(user, collab_rec))\n",
        "\n",
        "plot_results(content_rec, content_rec_artist_embedding, collab_rec, user, TOP)\n"
      ],
      "execution_count": null,
      "outputs": [
        {
          "output_type": "stream",
          "text": [
            "Seen artists: [22] \n",
            "\n",
            "Content Based Top artists for user 9582: [7, 39, 23, 3, 6]\n",
            "\n",
            "Content Based Artist Embedding Top artists for user 9582: [21, 9, 29, 23, 39]\n",
            "\n",
            "Collaborative Filtering Top artists for user 9582: [7, 43, 8, 4, 25]\n"
          ],
          "name": "stdout"
        },
        {
          "output_type": "display_data",
          "data": {
            "image/png": "[encoded data removed]",
            "text/plain": [
              "<Figure size 432x288 with 1 Axes>"
            ]
          },
          "metadata": {
            "tags": [],
            "needs_background": "light"
          }
        }
      ]
    },
    {
      "cell_type": "code",
      "metadata": {
        "id": "lg8MreC6T8vO",
        "colab_type": "code",
        "colab": {
          "base_uri": "https://localhost:8080/",
          "height": 417
        },
        "outputId": "3a736bcf-fc01-4d4a-9f54-27106c821e33"
      },
      "source": [
        "user = 12525\n",
        "\n",
        "print(\"Seen artists:\",list(df[df.User == user]['Artist']),'\\n')\n",
        "content_rec = content_based_recommendation(user, cosine_sim)\n",
        "print(\"Content Based Top artists for user {}: {}\\n\".format(user, sorted(content_rec)))\n",
        "\n",
        "content_rec_artist_embedding = content_based_recommendation(user, artist_embedding_similarity)\n",
        "print(\"Content Based Artist Embedding Top artists for user {}: {}\\n\".format(user, sorted(content_rec_artist_embedding)))\n",
        "\n",
        "collab_rec = collaborative_filtering_recommendation(user, model, n_artists)\n",
        "print(\"Collaborative Filtering Top artists for user {}: {}\".format(user, sorted(collab_rec)))\n",
        "\n",
        "plot_results(content_rec, content_rec_artist_embedding, collab_rec, user, TOP)\n",
        "\n"
      ],
      "execution_count": null,
      "outputs": [
        {
          "output_type": "stream",
          "text": [
            "Seen artists: [33] \n",
            "\n",
            "Content Based Top artists for user 12525: [2, 10, 11, 37, 47]\n",
            "\n",
            "Content Based Artist Embedding Top artists for user 12525: [7, 17, 24, 39, 40]\n",
            "\n",
            "Collaborative Filtering Top artists for user 12525: [7, 25, 27, 40, 43]\n"
          ],
          "name": "stdout"
        },
        {
          "output_type": "display_data",
          "data": {
            "image/png": "[encoded data removed]",
            "text/plain": [
              "<Figure size 432x288 with 1 Axes>"
            ]
          },
          "metadata": {
            "tags": [],
            "needs_background": "light"
          }
        }
      ]
    },
    {
      "cell_type": "code",
      "metadata": {
        "id": "MqHJz3PXnwVP",
        "colab_type": "code",
        "colab": {
          "base_uri": "https://localhost:8080/",
          "height": 417
        },
        "outputId": "78b1f599-13de-4bfc-81ed-f723f04b1798"
      },
      "source": [
        "user = 12531\n",
        "\n",
        "print(\"Seen artists:\",list(df[df.User == user]['Artist']),'\\n')\n",
        "content_rec = content_based_recommendation(user, cosine_sim)\n",
        "print(\"Content Based Top artists for user {}: {}\\n\".format(user, content_rec))\n",
        "\n",
        "content_rec_artist_embedding = content_based_recommendation(user, artist_embedding_similarity)\n",
        "print(\"Content Based Artist Embedding Top artists for user {}: {}\\n\".format(user, content_rec_artist_embedding))\n",
        "\n",
        "collab_rec = collaborative_filtering_recommendation(user, model, n_artists)\n",
        "print(\"Collaborative Filtering Top artists for user {}: {}\".format(user, collab_rec))\n",
        "\n",
        "plot_results(content_rec, content_rec_artist_embedding, collab_rec, user, TOP)"
      ],
      "execution_count": null,
      "outputs": [
        {
          "output_type": "stream",
          "text": [
            "Seen artists: [32] \n",
            "\n",
            "Content Based Top artists for user 12531: [36, 10, 38, 8, 12]\n",
            "\n",
            "Content Based Artist Embedding Top artists for user 12531: [25, 37, 38, 48, 34]\n",
            "\n",
            "Collaborative Filtering Top artists for user 12531: [19, 44, 43, 24, 48]\n"
          ],
          "name": "stdout"
        },
        {
          "output_type": "display_data",
          "data": {
            "image/png": "[encoded data removed]",
            "text/plain": [
              "<Figure size 432x288 with 1 Axes>"
            ]
          },
          "metadata": {
            "tags": [],
            "needs_background": "light"
          }
        }
      ]
    }
  ]
}